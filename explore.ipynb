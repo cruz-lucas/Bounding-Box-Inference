{
  "cells": [
    {
      "cell_type": "code",
      "execution_count": 130,
      "metadata": {},
      "outputs": [],
      "source": [
        "from bbi.models import SamplingModel\n",
        "import numpy as np"
      ]
    },
    {
      "cell_type": "code",
      "execution_count": 131,
      "metadata": {},
      "outputs": [
        {
          "data": {
            "text/plain": [
              "(array([0., 5., 0., 0.], dtype=float32), {})"
            ]
          },
          "execution_count": 131,
          "metadata": {},
          "output_type": "execute_result"
        }
      ],
      "source": [
        "# env = GoRight(has_state_offset=False)\n",
        "env = SamplingModel(has_state_offset=False)\n",
        "env.reset()\n",
        "# env.set_state(state=np.array([0.0, 10.0, 0.0, 0.0]), previous_status=10)"
      ]
    },
    {
      "cell_type": "code",
      "execution_count": 132,
      "metadata": {},
      "outputs": [
        {
          "data": {
            "text/plain": [
              "(array([9., 5., 0., 0.], dtype=float32), -1.0, False, False, {})"
            ]
          },
          "execution_count": 132,
          "metadata": {},
          "output_type": "execute_result"
        }
      ],
      "source": [
        "env.step(1)\n",
        "env.step(1)\n",
        "env.step(1)\n",
        "env.step(1)\n",
        "env.step(1)\n",
        "env.step(1)\n",
        "env.step(1)\n",
        "env.step(1)\n",
        "env.step(1)"
      ]
    },
    {
      "cell_type": "code",
      "execution_count": 129,
      "metadata": {},
      "outputs": [
        {
          "data": {
            "text/plain": [
              "(array([10., 10.,  1.,  1.]), -1.0, False, False, {})"
            ]
          },
          "execution_count": 129,
          "metadata": {},
          "output_type": "execute_result"
        }
      ],
      "source": [
        "env.step(1)"
      ]
    },
    {
      "cell_type": "code",
      "execution_count": 134,
      "metadata": {},
      "outputs": [
        {
          "data": {
            "text/plain": [
              "(array([9., 0., 0., 0.], dtype=float32), 0.0, False, False, {})"
            ]
          },
          "execution_count": 134,
          "metadata": {},
          "output_type": "execute_result"
        }
      ],
      "source": [
        "env.step(0)"
      ]
    },
    {
      "cell_type": "code",
      "execution_count": 135,
      "metadata": {},
      "outputs": [
        {
          "data": {
            "text/plain": [
              "array([10.     ,  5.016  ,  0.33359,  0.33646], dtype=float32)"
            ]
          },
          "execution_count": 135,
          "metadata": {},
          "output_type": "execute_result"
        }
      ],
      "source": [
        "count = 0\n",
        "initial = 0.0\n",
        "for _ in range(100_000):\n",
        "    initial += env.step(1)[0]  # going to position 10\n",
        "    env.step(0)  # returning to pos 9\n",
        "    count += 1\n",
        "\n",
        "initial / count"
      ]
    },
    {
      "cell_type": "code",
      "execution_count": 41,
      "metadata": {},
      "outputs": [
        {
          "data": {
            "text/plain": [
              "array([10.,  5.,  0.,  0.])"
            ]
          },
          "execution_count": 41,
          "metadata": {},
          "output_type": "execute_result"
        }
      ],
      "source": [
        "env.set_state(state=np.array([10.0, 5.0, 0.0, 0.0]), previous_status=0)\n",
        "env.state"
      ]
    },
    {
      "cell_type": "code",
      "execution_count": 47,
      "metadata": {},
      "outputs": [
        {
          "data": {
            "text/plain": [
              "(array([10.,  0.,  0.,  0.]), -1.0, False, False, {})"
            ]
          },
          "execution_count": 47,
          "metadata": {},
          "output_type": "execute_result"
        }
      ],
      "source": [
        "env.step(1)"
      ]
    },
    {
      "cell_type": "code",
      "execution_count": 54,
      "metadata": {},
      "outputs": [
        {
          "data": {
            "text/plain": [
              "array([10.,  5.,  0.,  1.])"
            ]
          },
          "execution_count": 54,
          "metadata": {},
          "output_type": "execute_result"
        }
      ],
      "source": [
        "env.set_state(state=np.array([10.0, 5.0, 0.0, 1.0]), previous_status=0)\n",
        "env.state"
      ]
    },
    {
      "cell_type": "code",
      "execution_count": 58,
      "metadata": {},
      "outputs": [
        {
          "data": {
            "text/plain": [
              "(array([10.,  5.,  0.,  0.]), -1.0, False, False, {})"
            ]
          },
          "execution_count": 58,
          "metadata": {},
          "output_type": "execute_result"
        }
      ],
      "source": [
        "env.step(1)"
      ]
    },
    {
      "cell_type": "code",
      "execution_count": 1,
      "metadata": {},
      "outputs": [
        {
          "data": {
            "text/plain": [
              "(array([0., 5., 0., 0.], dtype=float32), {})"
            ]
          },
          "execution_count": 1,
          "metadata": {},
          "output_type": "execute_result"
        }
      ],
      "source": [
        "from bbi.models import ExpectationModel\n",
        "\n",
        "env = ExpectationModel(has_state_offset=False)\n",
        "env.reset()"
      ]
    },
    {
      "cell_type": "code",
      "execution_count": 2,
      "metadata": {},
      "outputs": [
        {
          "data": {
            "text/plain": [
              "(array([9., 5., 0., 0.], dtype=float32), -1.0, False, False, {})"
            ]
          },
          "execution_count": 2,
          "metadata": {},
          "output_type": "execute_result"
        }
      ],
      "source": [
        "env.step(1)\n",
        "env.step(1)\n",
        "env.step(1)\n",
        "env.step(1)\n",
        "env.step(1)\n",
        "env.step(1)\n",
        "env.step(1)\n",
        "env.step(1)\n",
        "env.step(1)"
      ]
    },
    {
      "cell_type": "code",
      "execution_count": 9,
      "metadata": {},
      "outputs": [
        {
          "data": {
            "text/plain": [
              "(array([10.,  5.,  0.,  0.], dtype=float32), -1.0, False, False, {})"
            ]
          },
          "execution_count": 9,
          "metadata": {},
          "output_type": "execute_result"
        }
      ],
      "source": [
        "env.step(1)"
      ]
    },
    {
      "cell_type": "code",
      "execution_count": 38,
      "metadata": {},
      "outputs": [
        {
          "data": {
            "text/plain": [
              "(array([9., 5., 0., 0.], dtype=float32), 0.0, False, False, {})"
            ]
          },
          "execution_count": 38,
          "metadata": {},
          "output_type": "execute_result"
        }
      ],
      "source": [
        "env.step(0)"
      ]
    },
    {
      "cell_type": "code",
      "execution_count": 14,
      "metadata": {},
      "outputs": [],
      "source": [
        "from bbi.models import BBI"
      ]
    },
    {
      "cell_type": "code",
      "execution_count": 15,
      "metadata": {},
      "outputs": [
        {
          "data": {
            "text/plain": [
              "(array([0., 5., 0., 0.], dtype=float32), {})"
            ]
          },
          "execution_count": 15,
          "metadata": {},
          "output_type": "execute_result"
        }
      ],
      "source": [
        "env = BBI()\n",
        "env.reset()"
      ]
    },
    {
      "cell_type": "code",
      "execution_count": 35,
      "metadata": {},
      "outputs": [
        {
          "name": "stdout",
          "output_type": "stream",
          "text": [
            "State: [10.  5.  1.  0.] \n",
            "Reward:  -1.0 \n",
            "\n",
            "State BB:\n",
            " Upper bound:  [10. 10.  1.  1.] \n",
            " Lower bound:  [10.  0.  1.  0.] \n",
            "\n",
            "Reward BB:\n",
            " [-1.0, 3.0] \n",
            "\n"
          ]
        }
      ],
      "source": [
        "state, reward, _, _, _ = env.step(1)\n",
        "print(\"State:\", state, \"\\nReward: \", reward, \"\\n\")\n",
        "print(\n",
        "    \"State BB:\\n\",\n",
        "    \"Upper bound: \",\n",
        "    env.state_bounding_box[1],\n",
        "    \"\\n Lower bound: \",\n",
        "    env.state_bounding_box[0],\n",
        "    \"\\n\",\n",
        ")\n",
        "print(\"Reward BB:\\n\", env.reward_bounding_box, \"\\n\")"
      ]
    },
    {
      "cell_type": "code",
      "execution_count": null,
      "metadata": {},
      "outputs": [],
      "source": []
    }
  ],
  "metadata": {
    "kernelspec": {
      "display_name": ".venv",
      "language": "python",
      "name": "python3"
    },
    "language_info": {
      "codemirror_mode": {
        "name": "ipython",
        "version": 3
      },
      "file_extension": ".py",
      "mimetype": "text/x-python",
      "name": "python",
      "nbconvert_exporter": "python",
      "pygments_lexer": "ipython3",
      "version": "3.10.14"
    }
  },
  "nbformat": 4,
  "nbformat_minor": 2
}
