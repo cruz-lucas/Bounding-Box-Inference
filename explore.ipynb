{
  "cells": [
    {
      "cell_type": "code",
      "execution_count": 5,
      "metadata": {},
      "outputs": [],
      "source": [
        "from bbi.models import SamplingModel\n",
        "import numpy as np"
      ]
    },
    {
      "cell_type": "code",
      "execution_count": 12,
      "metadata": {},
      "outputs": [
        {
          "data": {
            "text/plain": [
              "(array([0., 0., 0., 0.], dtype=float32), {})"
            ]
          },
          "execution_count": 12,
          "metadata": {},
          "output_type": "execute_result"
        }
      ],
      "source": [
        "# env = GoRight(has_state_offset=False)\n",
        "env = SamplingModel(has_state_offset=False)\n",
        "env.reset()\n",
        "# env.set_state(state=np.array([0.0, 10.0, 0.0, 0.0]), previous_status=10)"
      ]
    },
    {
      "cell_type": "code",
      "execution_count": 13,
      "metadata": {},
      "outputs": [
        {
          "data": {
            "text/plain": [
              "(array([9., 0., 0., 0.], dtype=float32), -1.0, False, False, {})"
            ]
          },
          "execution_count": 13,
          "metadata": {},
          "output_type": "execute_result"
        }
      ],
      "source": [
        "env.step(1)\n",
        "env.step(1)\n",
        "env.step(1)\n",
        "env.step(1)\n",
        "env.step(1)\n",
        "env.step(1)\n",
        "env.step(1)\n",
        "env.step(1)\n",
        "env.step(1)"
      ]
    },
    {
      "cell_type": "code",
      "execution_count": 14,
      "metadata": {},
      "outputs": [
        {
          "data": {
            "text/plain": [
              "array([10.     ,  4.99185,  0.33679,  0.3353 ], dtype=float32)"
            ]
          },
          "execution_count": 14,
          "metadata": {},
          "output_type": "execute_result"
        }
      ],
      "source": [
        "count = 0\n",
        "initial = 0.0\n",
        "for _ in range(100_000):\n",
        "    initial += env.step(1)[0]  # going to position 10\n",
        "    env.step(0)  # returning to pos 9\n",
        "    count += 1\n",
        "\n",
        "initial / count"
      ]
    },
    {
      "cell_type": "code",
      "execution_count": 41,
      "metadata": {},
      "outputs": [
        {
          "data": {
            "text/plain": [
              "array([10.,  5.,  0.,  0.])"
            ]
          },
          "execution_count": 41,
          "metadata": {},
          "output_type": "execute_result"
        }
      ],
      "source": [
        "env.set_state(state=np.array([10.0, 5.0, 0.0, 0.0]), previous_status=0)\n",
        "env.state"
      ]
    },
    {
      "cell_type": "code",
      "execution_count": 47,
      "metadata": {},
      "outputs": [
        {
          "data": {
            "text/plain": [
              "(array([10.,  0.,  0.,  0.]), -1.0, False, False, {})"
            ]
          },
          "execution_count": 47,
          "metadata": {},
          "output_type": "execute_result"
        }
      ],
      "source": [
        "env.step(1)"
      ]
    },
    {
      "cell_type": "code",
      "execution_count": 54,
      "metadata": {},
      "outputs": [
        {
          "data": {
            "text/plain": [
              "array([10.,  5.,  0.,  1.])"
            ]
          },
          "execution_count": 54,
          "metadata": {},
          "output_type": "execute_result"
        }
      ],
      "source": [
        "env.set_state(state=np.array([10.0, 5.0, 0.0, 1.0]), previous_status=0)\n",
        "env.state"
      ]
    },
    {
      "cell_type": "code",
      "execution_count": 58,
      "metadata": {},
      "outputs": [
        {
          "data": {
            "text/plain": [
              "(array([10.,  5.,  0.,  0.]), -1.0, False, False, {})"
            ]
          },
          "execution_count": 58,
          "metadata": {},
          "output_type": "execute_result"
        }
      ],
      "source": [
        "env.step(1)"
      ]
    },
    {
      "cell_type": "code",
      "execution_count": 15,
      "metadata": {},
      "outputs": [
        {
          "data": {
            "text/plain": [
              "(array([0., 5., 0., 0.], dtype=float32), {})"
            ]
          },
          "execution_count": 15,
          "metadata": {},
          "output_type": "execute_result"
        }
      ],
      "source": [
        "from bbi.models import ExpectationModel\n",
        "\n",
        "env = ExpectationModel(has_state_offset=False)\n",
        "env.reset()"
      ]
    },
    {
      "cell_type": "code",
      "execution_count": 16,
      "metadata": {},
      "outputs": [],
      "source": [
        "env.set_state(state=[10, 0, 1, 1], previous_status=0)"
      ]
    },
    {
      "cell_type": "code",
      "execution_count": 20,
      "metadata": {},
      "outputs": [
        {
          "data": {
            "text/plain": [
              "([np.int64(10), 5, np.int64(1), np.int64(1)], 3.0, False, False, {})"
            ]
          },
          "execution_count": 20,
          "metadata": {},
          "output_type": "execute_result"
        }
      ],
      "source": [
        "env.step(1)"
      ]
    },
    {
      "cell_type": "code",
      "execution_count": 2,
      "metadata": {},
      "outputs": [
        {
          "data": {
            "text/plain": [
              "(array([9., 5., 0., 0.], dtype=float32), -1.0, False, False, {})"
            ]
          },
          "execution_count": 2,
          "metadata": {},
          "output_type": "execute_result"
        }
      ],
      "source": [
        "env.step(1)\n",
        "env.step(1)\n",
        "env.step(1)\n",
        "env.step(1)\n",
        "env.step(1)\n",
        "env.step(1)\n",
        "env.step(1)\n",
        "env.step(1)\n",
        "env.step(1)"
      ]
    },
    {
      "cell_type": "code",
      "execution_count": 9,
      "metadata": {},
      "outputs": [
        {
          "data": {
            "text/plain": [
              "(array([10.,  5.,  0.,  0.], dtype=float32), -1.0, False, False, {})"
            ]
          },
          "execution_count": 9,
          "metadata": {},
          "output_type": "execute_result"
        }
      ],
      "source": [
        "env.step(1)"
      ]
    },
    {
      "cell_type": "code",
      "execution_count": 38,
      "metadata": {},
      "outputs": [
        {
          "data": {
            "text/plain": [
              "(array([9., 5., 0., 0.], dtype=float32), 0.0, False, False, {})"
            ]
          },
          "execution_count": 38,
          "metadata": {},
          "output_type": "execute_result"
        }
      ],
      "source": [
        "env.step(0)"
      ]
    },
    {
      "cell_type": "code",
      "execution_count": 14,
      "metadata": {},
      "outputs": [],
      "source": [
        "from bbi.models import BBI"
      ]
    },
    {
      "cell_type": "code",
      "execution_count": 15,
      "metadata": {},
      "outputs": [
        {
          "data": {
            "text/plain": [
              "(array([0., 5., 0., 0.], dtype=float32), {})"
            ]
          },
          "execution_count": 15,
          "metadata": {},
          "output_type": "execute_result"
        }
      ],
      "source": [
        "env = BBI()\n",
        "env.reset()"
      ]
    },
    {
      "cell_type": "code",
      "execution_count": 35,
      "metadata": {},
      "outputs": [
        {
          "name": "stdout",
          "output_type": "stream",
          "text": [
            "State: [10.  5.  1.  0.] \n",
            "Reward:  -1.0 \n",
            "\n",
            "State BB:\n",
            " Upper bound:  [10. 10.  1.  1.] \n",
            " Lower bound:  [10.  0.  1.  0.] \n",
            "\n",
            "Reward BB:\n",
            " [-1.0, 3.0] \n",
            "\n"
          ]
        }
      ],
      "source": [
        "state, reward, _, _, _ = env.step(1)\n",
        "print(\"State:\", state, \"\\nReward: \", reward, \"\\n\")\n",
        "print(\n",
        "    \"State BB:\\n\",\n",
        "    \"Upper bound: \",\n",
        "    env.state_bounding_box[1],\n",
        "    \"\\n Lower bound: \",\n",
        "    env.state_bounding_box[0],\n",
        "    \"\\n\",\n",
        ")\n",
        "print(\"Reward BB:\\n\", env.reward_bounding_box, \"\\n\")"
      ]
    },
    {
      "cell_type": "code",
      "execution_count": 1,
      "metadata": {},
      "outputs": [
        {
          "name": "stderr",
          "output_type": "stream",
          "text": [
            "/Users/lucruz/Documents/GitHub/research-sandbox/.venv/lib/python3.10/site-packages/pygame/pkgdata.py:25: UserWarning: Module bbi was already imported from None, but /Users/lucruz/Documents/GitHub/research-sandbox is being added to sys.path\n",
            "  from pkg_resources import resource_stream, resource_exists\n"
          ]
        }
      ],
      "source": [
        "from bbi.environments import GoRight"
      ]
    },
    {
      "cell_type": "code",
      "execution_count": 2,
      "metadata": {},
      "outputs": [
        {
          "data": {
            "text/plain": [
              "(array([ 0.15617523,  1.2241955 , -0.2476423 , -0.02469329], dtype=float32),\n",
              " {})"
            ]
          },
          "execution_count": 2,
          "metadata": {},
          "output_type": "execute_result"
        }
      ],
      "source": [
        "env = GoRight()\n",
        "env.reset()"
      ]
    },
    {
      "cell_type": "code",
      "execution_count": 9,
      "metadata": {},
      "outputs": [
        {
          "data": {
            "text/plain": [
              "array([10., 10.,  1.,  1.])"
            ]
          },
          "execution_count": 9,
          "metadata": {},
          "output_type": "execute_result"
        }
      ],
      "source": [
        "env.set_state_from_rounded([10.0, 2, 3], previous_status=0)\n",
        "env.state"
      ]
    },
    {
      "cell_type": "code",
      "execution_count": 11,
      "metadata": {},
      "outputs": [
        {
          "data": {
            "text/plain": [
              "(array([10.15617522,  6.22419545,  0.7523577 ,  0.97530671]),\n",
              " 3.0,\n",
              " False,\n",
              " False,\n",
              " {})"
            ]
          },
          "execution_count": 11,
          "metadata": {},
          "output_type": "execute_result"
        }
      ],
      "source": [
        "env.step(1)"
      ]
    },
    {
      "cell_type": "code",
      "execution_count": 29,
      "metadata": {},
      "outputs": [],
      "source": [
        "import numpy as np\n",
        "\n",
        "a = [np.array([0.0, 1.0]), np.array([1.0, 0.0])]"
      ]
    },
    {
      "cell_type": "code",
      "execution_count": 30,
      "metadata": {},
      "outputs": [
        {
          "data": {
            "text/plain": [
              "array([0., 0.])"
            ]
          },
          "execution_count": 30,
          "metadata": {},
          "output_type": "execute_result"
        }
      ],
      "source": [
        "np.min(a, axis=0)"
      ]
    },
    {
      "cell_type": "code",
      "execution_count": null,
      "metadata": {},
      "outputs": [],
      "source": []
    },
    {
      "cell_type": "code",
      "execution_count": null,
      "metadata": {},
      "outputs": [],
      "source": []
    }
  ],
  "metadata": {
    "kernelspec": {
      "display_name": ".venv",
      "language": "python",
      "name": "python3"
    },
    "language_info": {
      "codemirror_mode": {
        "name": "ipython",
        "version": 3
      },
      "file_extension": ".py",
      "mimetype": "text/x-python",
      "name": "python",
      "nbconvert_exporter": "python",
      "pygments_lexer": "ipython3",
      "version": "3.10.14"
    }
  },
  "nbformat": 4,
  "nbformat_minor": 2
}
